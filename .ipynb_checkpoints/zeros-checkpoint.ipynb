{
 "cells": [
  {
   "cell_type": "code",
   "execution_count": 1,
   "metadata": {},
   "outputs": [
    {
     "data": {
      "text/html": [
       "Experiment link <a href=\"/pipeline/#/experiments/details/6e76cfd2-de23-4455-9406-b03d9146340f\" target=\"_blank\" >here</a>"
      ],
      "text/plain": [
       "<IPython.core.display.HTML object>"
      ]
     },
     "metadata": {},
     "output_type": "display_data"
    }
   ],
   "source": [
    "import kfp\n",
    "from kfp import compiler\n",
    "import kfp.dsl as dsl\n",
    "import kfp.notebook\n",
    "import kfp.gcp as gcp\n",
    "client = kfp.Client()\n",
    "from kubernetes import client as k8s_client\n",
    "EXPERIMENT_NAME = 'exp2'\n",
    "exp = client.create_experiment(name=EXPERIMENT_NAME)"
   ]
  },
  {
   "cell_type": "code",
   "execution_count": 26,
   "metadata": {},
   "outputs": [],
   "source": [
    "class validateOp(dsl.ContainerOp):\n",
    "  \"\"\"对文件中的数据进行验证\"\"\"\n",
    "  def __init__(self, output_dir,inputFilename):\n",
    "    super(validateOp, self).__init__(\n",
    "      name='validate_number',\n",
    "      image='192.168.14.54:5000/user-validate:v8',\n",
    "      arguments = [\n",
    "            '--inputFilename', inputFilename,\n",
    "            '--output_dir', output_dir,\n",
    "        ],\n",
    "      file_outputs={\n",
    "            'more': '/moreFilePath.txt',\n",
    "            'less': '/lessFilePath.txt',\n",
    "            })\n",
    "\n",
    "class MoreThanZeroOp(dsl.ContainerOp):\n",
    "  \"\"\"handle the number more than zero\"\"\"\n",
    "  def __init__(self,output_dir,data):\n",
    "    super(MoreThanZeroOp, self).__init__(\n",
    "      name='MoreThanZero',\n",
    "      image='192.168.14.54:5000/user-morethanzero:v8',\n",
    "      arguments = [\n",
    "            '--output_dir',output_dir,\n",
    "            '--data', data,\n",
    "        ])\n",
    "    \n",
    "class LessThanZeroOp(dsl.ContainerOp):\n",
    "  \"\"\"handle the number less than zero\"\"\"\n",
    "  def __init__(self,output_dir,data):\n",
    "    super(LessThanZeroOp, self).__init__(\n",
    "      name='LessThanZero',\n",
    "      image='192.168.14.54:5000/user-lessthanzero:v8',\n",
    "      arguments = [\n",
    "            '--output_dir',output_dir,\n",
    "            '--data', data,\n",
    "        ])\n",
    " \n",
    "@dsl.pipeline(\n",
    "    name='labelselector',\n",
    "    description='shows how to choose the label in python.'\n",
    ")\n",
    "def ValidateTest():\n",
    "    output_dir = '/home/zyy/pv2/'\n",
    "    inputFilename = '/home/zyy/pv2/input.txt'\n",
    "    validate = validateOp(output_dir,inputFilename).add_volume(k8s_client.V1Volume(name='aaa',nfs=k8s_client.V1NFSVolumeSource(path= '/data/nfs/open/lambda-cloud-new/lambda-cloud/docker/zyy/pv2',server='10.18.121.211'))).add_volume_mount(k8s_client.V1VolumeMount(mount_path='/home/zyy/pv2',name='aaa'))\n",
    "    moreThanZero = MoreThanZeroOp(output_dir,validate.outputs['more']).add_volume(k8s_client.V1Volume(name='aaa',nfs=k8s_client.V1NFSVolumeSource(path='/data/nfs/open/lambda-cloud-new/lambda-cloud/docker/zyy/pv2',server='10.18.121.211'))).add_volume_mount(k8s_client.V1VolumeMount(mount_path='/home/zyy/pv2',name='aaa'))\n",
    "    lessThanZero = LessThanZeroOp(output_dir,validate.outputs['less']).add_volume(k8s_client.V1Volume(name='aaa',nfs=k8s_client.V1NFSVolumeSource(path='/data/nfs/open/lambda-cloud-new/lambda-cloud/docker/zyy/pv2',server='10.18.121.211'))).add_volume_mount(k8s_client.V1VolumeMount(mount_path='/home/zyy/pv2',name='aaa'))\n",
    "    "
   ]
  },
  {
   "cell_type": "code",
   "execution_count": 27,
   "metadata": {},
   "outputs": [
    {
     "data": {
      "text/html": [
       "Run link <a href=\"/pipeline/#/runs/details/89b903b5-7173-11e9-a765-ac1f6bac1e94\" target=\"_blank\" >here</a>"
      ],
      "text/plain": [
       "<IPython.core.display.HTML object>"
      ]
     },
     "metadata": {},
     "output_type": "display_data"
    }
   ],
   "source": [
    "compiler.Compiler().compile(ValidateTest,  'test.tar.gz')\n",
    "run = client.run_pipeline(exp.id, 'usr', 'test.tar.gz')"
   ]
  },
  {
   "cell_type": "code",
   "execution_count": null,
   "metadata": {},
   "outputs": [],
   "source": []
  }
 ],
 "metadata": {
  "kernelspec": {
   "display_name": "Python 3",
   "language": "python",
   "name": "python3"
  },
  "language_info": {
   "codemirror_mode": {
    "name": "ipython",
    "version": 3
   },
   "file_extension": ".py",
   "mimetype": "text/x-python",
   "name": "python",
   "nbconvert_exporter": "python",
   "pygments_lexer": "ipython3",
   "version": "3.6.4"
  }
 },
 "nbformat": 4,
 "nbformat_minor": 2
}
